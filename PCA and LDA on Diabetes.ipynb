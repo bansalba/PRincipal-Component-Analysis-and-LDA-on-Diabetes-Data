{
 "cells": [
  {
   "cell_type": "markdown",
   "metadata": {},
   "source": [
    "### 1. Loading data, determining samples, attributes, and types of attributes"
   ]
  },
  {
   "cell_type": "markdown",
   "metadata": {},
   "source": [
    "Use the 'diabetes' data available at https://notebooks.azure.com/chriran/projects/mlcoachprimers-june/html/data/diabetes.csv\n",
    "Download the data to your local space and read it.\n",
    "\n",
    "<span style=\"color:red\">**Questions:** </span> \n",
    "- Where is the data obtained from?\n",
    "- What does the data capture?\n",
    "- How many data points are there? \n",
    "- What is the dimensionality? \n",
    "- What type of attributes are present in the dataset? \n",
    "\n"
   ]
  },
  {
   "cell_type": "markdown",
   "metadata": {},
   "source": [
    "### 2. Generating summary statistics"
   ]
  },
  {
   "cell_type": "markdown",
   "metadata": {},
   "source": [
    "Use 'diabetes' data. Do not include PatientID attribute in this analysis. \n",
    "\n",
    "<span style=\"color:red\">**Questions:** </span> \n",
    "- What are range of values these numeric attributes take? \n",
    "- What different values do categorical attributes take? \n",
    "- What are is mean values for each of the attributes?\n",
    "- What are is variance for each of the attributes?\n",
    "- How is the data distributed for each of these attributes?"
   ]
  },
  {
   "cell_type": "markdown",
   "metadata": {},
   "source": [
    "### 3. Understanding the (in)dependencies among attributes using Covariance matrix"
   ]
  },
  {
   "cell_type": "markdown",
   "metadata": {},
   "source": [
    "Use 'diabetes' data. Do not include PatientID and Diabetic attribute in this analysis. \n",
    "\n",
    "\n",
    "<span style=\"color:red\">**Questions:** </span> \n",
    "- What is the covariance matrix? \n",
    "- Which pairs of attributes co-vary?\n",
    "- Which pairs of attributes have low covariance?\n",
    "- Which pairs of attributes are highly correlated? \n",
    "- Which pairs of attributes are uncorrelated? \n",
    "- What information do you gain from a correlation matrix, but not from a covariance matrix?"
   ]
  },
  {
   "cell_type": "markdown",
   "metadata": {},
   "source": [
    "### 4. Dimensionality Reduction: Feature Selection"
   ]
  },
  {
   "cell_type": "markdown",
   "metadata": {},
   "source": [
    "**Assumption:** Assume that your goal is to cluster the data to identify the diagnosis 'Diabetic'. Clustering algorithm takes as input data points and attributes. It groups points that are similar to each other into a separate cluster. It puts points that are dissimilar in different cluster. Note that the 'Diabetic' attribute will be hidden from the clustering algorithm.\n",
    "\n",
    "<span style=\"color:red\">**Questions:** </span> \n",
    "- If you are allowed to select only one (out of the four) feature, which feature would be highly useful for the clustering task. Provide a reason.\n",
    "- If you are allowed to select only two (out of the four) feature, which feature would be highly useful for the clustering task. Provide a reason.\n",
    "- Note that in real-world problems ground-truth will not be available to select the features, how do you approach the feature selection problem in that case?"
   ]
  },
  {
   "cell_type": "markdown",
   "metadata": {},
   "source": [
    "### 5. Dimensionality Reduction: PCA"
   ]
  },
  {
   "cell_type": "markdown",
   "metadata": {},
   "source": [
    "Using diabetes data (exclude PatientID and Diabetic attributes), perform PCA, select 2 components, and project the data. You may use the PCA function from the sklearn package. Plot the projected data and comment if the data for the two groups (Diabetic=0 and Diabetic=1) of Diabetic attribute are  well seggreated in the principal components space."
   ]
  },
  {
   "cell_type": "markdown",
   "metadata": {},
   "source": [
    "### 6. Singular Value Decomposition"
   ]
  },
  {
   "cell_type": "markdown",
   "metadata": {},
   "source": [
    "Using the following matrix A, write your own SVD function to factorize the matrix into U,S, and V. You may use the PCA function that is available in the sklearn package."
   ]
  },
  {
   "cell_type": "code",
   "execution_count": null,
   "metadata": {},
   "outputs": [],
   "source": [
    "A = np.array([\n",
    "    [1, 1, 1, 0, 0],\n",
    "    [3, 3, 3, 0, 0],\n",
    "    [4, 4, 4, 0, 0],\n",
    "    [5, 5, 5, 0, 0],\n",
    "    [0, 2, 0, 4, 4],\n",
    "    [0, 0, 0, 5, 5],\n",
    "    [0, 1, 0, 2, 2]])"
   ]
  },
  {
   "cell_type": "markdown",
   "metadata": {},
   "source": [
    "### 7. Linear Discriminant Analysis"
   ]
  },
  {
   "cell_type": "markdown",
   "metadata": {},
   "source": [
    "Using diabetes data (exclude PatientID attribute), perform LDA.  You may use the LinearDiscriminantAnalysis function from the sklearn package. Plot the data and comment if a good separation between points that belong to Diabetic=0 and Diabetic=1 has been achieved."
   ]
  }
 ],
 "metadata": {
  "kernelspec": {
   "display_name": "Python 2.7 (Conda 5.2) [python/2.7]",
   "language": "python",
   "name": "sys_python27conda"
  },
  "language_info": {
   "codemirror_mode": {
    "name": "ipython",
    "version": 2
   },
   "file_extension": ".py",
   "mimetype": "text/x-python",
   "name": "python",
   "nbconvert_exporter": "python",
   "pygments_lexer": "ipython2",
   "version": "2.7.15"
  }
 },
 "nbformat": 4,
 "nbformat_minor": 2
}
